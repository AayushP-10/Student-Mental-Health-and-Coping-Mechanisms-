{
  "cells": [
    {
      "cell_type": "code",
      "execution_count": null,
      "id": "1e8d754b-413a-4110-9d79-60bdcf1032b0",
      "metadata": {
        "id": "1e8d754b-413a-4110-9d79-60bdcf1032b0",
        "outputId": "f2cada8b-59db-4e65-ec1f-f9d3a8f7dafc"
      },
      "outputs": [
        {
          "name": "stdout",
          "output_type": "stream",
          "text": [
            "=== Test Classification Metrics ===\n",
            "Accuracy: 0.5833333333333334\n",
            "              precision    recall  f1-score   support\n",
            "\n",
            "         Low       0.94      0.24      0.39       519\n",
            "      Medium       0.95      0.40      0.56       527\n",
            "        High       0.49      0.98      0.65       682\n",
            "\n",
            "    accuracy                           0.58      1728\n",
            "   macro avg       0.79      0.54      0.54      1728\n",
            "weighted avg       0.76      0.58      0.55      1728\n",
            "\n",
            "Confusion matrix:\n",
            " [[127   3 389]\n",
            " [  4 212 311]\n",
            " [  4   9 669]]\n",
            "✅ Wrote knn_recommendations_final.csv\n"
          ]
        }
      ],
      "source": [
        "#run recommender\n",
        "out = recommend(\"test_recs.csv\")\n",
        "\n",
        "#map pred_int → pred_label so you can see labels\n",
        "out[\"pred_label\"] = out[\"pred_int\"].map({0:\"Low\",1:\"Medium\",2:\"High\"})\n",
        "\n",
        "#compute classification metrics on hold-out test\n",
        "import pandas as pd\n",
        "from sklearn.metrics import classification_report, confusion_matrix, accuracy_score\n",
        "\n",
        "#reload true labels\n",
        "true = pd.read_csv(\"test_recs.csv\")[\"Stress Level Category\"].map({'Low':0,'Medium':1,'High':2})\n",
        "\n",
        "print(\"=== Test Classification Metrics ===\")\n",
        "print(\"Accuracy:\", accuracy_score(true, out[\"pred_int\"]))\n",
        "print(classification_report(true, out[\"pred_int\"], target_names=[\"Low\",\"Medium\",\"High\"]))\n",
        "print(\"Confusion matrix:\\n\", confusion_matrix(true, out[\"pred_int\"]))\n",
        "\n",
        "#now save including pred_label\n",
        "out[[\n",
        "  \"Student_id\",\"pred_label\",\"P_low\",\"P_med\",\"P_high\",\"P_category_drop\",\n",
        "  \"Stress Coping Mechanisms\",\"recommendations\"\n",
        "]].to_csv(\"knn_recommendations_final.csv\", index=False)\n",
        "print(\"✅ Wrote knn_recommendations_final.csv\")\n"
      ]
    }
  ],
  "metadata": {
    "kernelspec": {
      "display_name": "Python 3 (ipykernel)",
      "language": "python",
      "name": "python3"
    },
    "language_info": {
      "codemirror_mode": {
        "name": "ipython",
        "version": 3
      },
      "file_extension": ".py",
      "mimetype": "text/x-python",
      "name": "python",
      "nbconvert_exporter": "python",
      "pygments_lexer": "ipython3",
      "version": "3.11.7"
    },
    "colab": {
      "provenance": []
    }
  },
  "nbformat": 4,
  "nbformat_minor": 5
}
{
  "cells": [
    {
      "cell_type": "code",
      "execution_count": null,
      "id": "26bd2c77-3169-42bd-9204-b01395be3440",
      "metadata": {
        "id": "26bd2c77-3169-42bd-9204-b01395be3440",
        "outputId": "ebb3de2a-c09b-45f9-9cc6-a5372a1ad520"
      },
      "outputs": [
        {
          "data": {
            "text/html": [
              "<div>\n",
              "<style scoped>\n",
              "    .dataframe tbody tr th:only-of-type {\n",
              "        vertical-align: middle;\n",
              "    }\n",
              "\n",
              "    .dataframe tbody tr th {\n",
              "        vertical-align: top;\n",
              "    }\n",
              "\n",
              "    .dataframe thead th {\n",
              "        text-align: right;\n",
              "    }\n",
              "</style>\n",
              "<table border=\"1\" class=\"dataframe\">\n",
              "  <thead>\n",
              "    <tr style=\"text-align: right;\">\n",
              "      <th></th>\n",
              "      <th>pred_int</th>\n",
              "      <th>pred_label</th>\n",
              "      <th>P_low</th>\n",
              "      <th>P_med</th>\n",
              "      <th>P_high</th>\n",
              "    </tr>\n",
              "  </thead>\n",
              "  <tbody>\n",
              "    <tr>\n",
              "      <th>0</th>\n",
              "      <td>2</td>\n",
              "      <td>High</td>\n",
              "      <td>0.242485</td>\n",
              "      <td>0.236224</td>\n",
              "      <td>0.521291</td>\n",
              "    </tr>\n",
              "    <tr>\n",
              "      <th>1</th>\n",
              "      <td>2</td>\n",
              "      <td>High</td>\n",
              "      <td>0.245453</td>\n",
              "      <td>0.235538</td>\n",
              "      <td>0.519010</td>\n",
              "    </tr>\n",
              "    <tr>\n",
              "      <th>2</th>\n",
              "      <td>2</td>\n",
              "      <td>High</td>\n",
              "      <td>0.239831</td>\n",
              "      <td>0.242902</td>\n",
              "      <td>0.517267</td>\n",
              "    </tr>\n",
              "    <tr>\n",
              "      <th>3</th>\n",
              "      <td>2</td>\n",
              "      <td>High</td>\n",
              "      <td>0.266499</td>\n",
              "      <td>0.230290</td>\n",
              "      <td>0.503211</td>\n",
              "    </tr>\n",
              "    <tr>\n",
              "      <th>4</th>\n",
              "      <td>2</td>\n",
              "      <td>High</td>\n",
              "      <td>0.230600</td>\n",
              "      <td>0.232808</td>\n",
              "      <td>0.536591</td>\n",
              "    </tr>\n",
              "  </tbody>\n",
              "</table>\n",
              "</div>"
            ],
            "text/plain": [
              "   pred_int pred_label     P_low     P_med    P_high\n",
              "0         2       High  0.242485  0.236224  0.521291\n",
              "1         2       High  0.245453  0.235538  0.519010\n",
              "2         2       High  0.239831  0.242902  0.517267\n",
              "3         2       High  0.266499  0.230290  0.503211\n",
              "4         2       High  0.230600  0.232808  0.536591"
            ]
          },
          "metadata": {},
          "output_type": "display_data"
        },
        {
          "name": "stdout",
          "output_type": "stream",
          "text": [
            "              precision    recall  f1-score   support\n",
            "\n",
            "           0       0.41      0.01      0.03       517\n",
            "           1       0.18      0.01      0.01       523\n",
            "           2       0.39      0.98      0.56       676\n",
            "\n",
            "    accuracy                           0.39      1716\n",
            "   macro avg       0.33      0.33      0.20      1716\n",
            "weighted avg       0.33      0.39      0.23      1716\n",
            "\n",
            "[[  7   7 503]\n",
            " [  7   4 512]\n",
            " [  3  11 662]]\n"
          ]
        }
      ],
      "source": [
        "# in demo_classification.ipynb\n",
        "\n",
        "#import your loader\n",
        "from predict_classification import load_and_classify\n",
        "import pandas as pd\n",
        "from sklearn.metrics import classification_report, confusion_matrix\n",
        "\n",
        "#classify the unseen test set\n",
        "results = load_and_classify(\"test_data.csv\")\n",
        "\n",
        "#inspect\n",
        "display(results.head())\n",
        "\n",
        "#(optional) if test_data.csv still has true labels, evaluate\n",
        "true = pd.read_csv(\"test_data.csv\")[\"Stress Level Category\"].map({'Low':0,'Medium':1,'High':2})\n",
        "print(classification_report(true, results[\"pred_int\"]))\n",
        "print(confusion_matrix(true, results[\"pred_int\"]))\n"
      ]
    },
    {
      "cell_type": "code",
      "execution_count": null,
      "id": "58f20aec-1826-4a14-aef3-d436f66fda9e",
      "metadata": {
        "id": "58f20aec-1826-4a14-aef3-d436f66fda9e",
        "outputId": "4ec57fd9-c2c1-44e9-9bd0-f295a648be64"
      },
      "outputs": [
        {
          "name": "stdout",
          "output_type": "stream",
          "text": [
            "✅ Wrote classification results → predictions.csv\n",
            "✅ Wrote classification results → train_predictions.csv\n"
          ]
        }
      ],
      "source": [
        "#classify & save both test and train predictions\n",
        "from predict_classification import load_and_classify\n",
        "import pandas as pd\n",
        "\n",
        "#TEST set\n",
        "TEST_CSV = \"test_data.csv\"\n",
        "#run the classifier\n",
        "test_results = load_and_classify(TEST_CSV)\n",
        "# join back onto raw test so we keep all original columns (including Stress Coping Mechanisms)\n",
        "raw_test = pd.read_csv(TEST_CSV)\n",
        "df_test = raw_test.join(test_results)\n",
        "# persist\n",
        "OUT_TEST = \"predictions.csv\"\n",
        "df_test.to_csv(OUT_TEST, index=False)\n",
        "print(f\"✅ Wrote classification results → {OUT_TEST}\")\n",
        "\n",
        "#TRAIN set\n",
        "TRAIN_RECS = \"train_recs.csv\"              # this has Student_id, features, Stress Coping Mechanisms, true label\n",
        "train_results = load_and_classify(TRAIN_RECS)\n",
        "raw_train = pd.read_csv(TRAIN_RECS)\n",
        "df_train = raw_train.join(train_results)\n",
        "# persist\n",
        "OUT_TRAIN = \"train_predictions.csv\"\n",
        "df_train.to_csv(OUT_TRAIN, index=False)\n",
        "print(f\"✅ Wrote classification results → {OUT_TRAIN}\")\n"
      ]
    }
  ],
  "metadata": {
    "kernelspec": {
      "display_name": "Python 3 (ipykernel)",
      "language": "python",
      "name": "python3"
    },
    "language_info": {
      "codemirror_mode": {
        "name": "ipython",
        "version": 3
      },
      "file_extension": ".py",
      "mimetype": "text/x-python",
      "name": "python",
      "nbconvert_exporter": "python",
      "pygments_lexer": "ipython3",
      "version": "3.11.7"
    },
    "colab": {
      "provenance": []
    }
  },
  "nbformat": 4,
  "nbformat_minor": 5
}